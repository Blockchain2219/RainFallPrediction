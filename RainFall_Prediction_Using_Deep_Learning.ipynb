{
  "cells": [
    {
      "cell_type": "markdown",
      "metadata": {
        "id": "view-in-github",
        "colab_type": "text"
      },
      "source": [
        "<a href=\"https://colab.research.google.com/github/Blockchain2219/RainFallPrediction/blob/main/RainFall_Prediction_Using_Deep_Learning.ipynb\" target=\"_parent\"><img src=\"https://colab.research.google.com/assets/colab-badge.svg\" alt=\"Open In Colab\"/></a>"
      ]
    },
    {
      "cell_type": "code",
      "execution_count": null,
      "metadata": {
        "id": "or1lWha81nd_"
      },
      "outputs": [],
      "source": [
        "import numpy as np\n",
        "import os\n",
        "import pandas as pd\n",
        "import datetime\n",
        "import serial\n",
        "import time\n",
        "import requests\n",
        "\n",
        "from google.colab import output\n",
        "from pyngrok import ngrok\n",
        "from sklearn.preprocessing import LabelEncoder\n",
        "from sklearn.model_selection import train_test_split\n",
        "from sklearn.metrics import mean_absolute_error, mean_squared_error, r2_score\n",
        "from sklearn.preprocessing import StandardScaler\n",
        "from keras.models import Sequential\n",
        "from keras.layers import Dense, LSTM, BatchNormalization\n",
        "from keras.optimizers import Adam\n",
        "from keras.callbacks import ReduceLROnPlateau, EarlyStopping\n",
        "from keras.regularizers import l2\n",
        "from time import time\n",
        "from tensorflow.python.framework import dtypes\n",
        "from tensorflow_io.bigquery import BigQueryClient\n",
        "from tensorflow.keras.models import Sequential\n",
        "from tensorflow.keras.layers import LSTM, BatchNormalization, Dense, Conv1D, MaxPooling1D, Flatten, SimpleRNN"
      ]
    },
    {
      "cell_type": "code",
      "execution_count": null,
      "metadata": {
        "id": "gpMZuh01CjFN"
      },
      "outputs": [],
      "source": [
        "!pip install numpy\n",
        "!pip install pandas\n",
        "!pip install pyngrok\n",
        "!pip install scikit-learn\n",
        "!pip install keras\n",
        "!pip install tensorflow\n",
        "!pip install tensorflow-io\n",
        "!pip install serial\n",
        "!pip install pyserial\n",
        "!apt-get install socat\n",
        "!pip install paho-mqtt"
      ]
    },
    {
      "cell_type": "markdown",
      "metadata": {
        "id": "aXRSrAHd5N6X"
      },
      "source": [
        "Configuring Serial Port and Baud RATE OF NODEMCU"
      ]
    },
    {
      "cell_type": "markdown",
      "metadata": {
        "id": "15b-r5Ur5g-0"
      },
      "source": [
        "Code to Send Data to NodeMCU"
      ]
    },
    {
      "cell_type": "code",
      "execution_count": null,
      "metadata": {
        "id": "qoMR0bwSAtzf"
      },
      "outputs": [],
      "source": [
        "api_key = \"CCX3GWFFS2ATDV8K\"\n",
        "temp=0\n",
        "humidity=0\n",
        "predRainfall=0"
      ]
    },
    {
      "cell_type": "code",
      "execution_count": null,
      "metadata": {
        "id": "eULC-uEt5U0v"
      },
      "outputs": [],
      "source": [
        "def send_data(temp,humidity,predRainFall):\n",
        "  url = f\"https://api.thingspeak.com/update?api_key={api_key}&field1={humidity}&field2={temp}&field3={predRainFall}\"\n",
        "  # Send HTTP GET request to update the channel\n",
        "  response = requests.get(url)\n",
        "  # Check the response status code\n",
        "  if response.status_code == 200:\n",
        "    print(\"Data sent to ThingSpeak successfully.\")\n",
        "  else:\n",
        "    print(\"Error sending data to ThingSpeak.\")\n"
      ]
    },
    {
      "cell_type": "markdown",
      "metadata": {
        "id": "FKukDii51zaH"
      },
      "source": [
        "Rain Prediction(Deep Learning)"
      ]
    },
    {
      "cell_type": "markdown",
      "metadata": {
        "id": "4Ri-YnDg2OvU"
      },
      "source": [
        "Load and preprocess the data"
      ]
    },
    {
      "cell_type": "code",
      "execution_count": null,
      "metadata": {
        "id": "Mm5CUFFC2LFf"
      },
      "outputs": [],
      "source": [
        "df = pd.read_csv(\"cleaned_weatherAUS.csv\")\n",
        "Direction = ['N', 'NNE', 'NE', 'ENE', 'E', 'ESE', 'SE', 'SSE', 'S', 'SSW', 'SW', 'WSW', 'W', 'WNW', 'NW', 'NNW']\n",
        "Degree = []\n",
        "\n",
        "x = 0\n",
        "for i in range(0, 337, 22):\n",
        "    Degree.append(i + x)\n",
        "    x = x + 0.5\n",
        "\n",
        "Direction_Degree = dict(zip(Direction, Degree))\n",
        "\n",
        "df = df.replace({\"WindGustDir\": Direction_Degree})\n",
        "df = df.replace({\"WindDir9am\": Direction_Degree})\n",
        "df = df.replace({\"WindDir3pm\": Direction_Degree})\n",
        "\n",
        "df = df.drop(columns=['Date', 'Location', 'RainTomorrow','Rainfall'], axis=1)\n",
        "cat_f = [x for x in df.columns if df[x].dtype == 'object']\n",
        "\n",
        "for name in cat_f:\n",
        "    enc = LabelEncoder()\n",
        "    enc.fit(list(df[name].values.astype('str')) + list(df[name].values.astype('str')))\n",
        "    df[name] = enc.transform(df[name].values.astype('str'))\n",
        "\n",
        "X = df.drop(['RainProbability'], axis=1)\n",
        "Y = df['RainProbability']"
      ]
    },
    {
      "cell_type": "code",
      "execution_count": null,
      "metadata": {
        "id": "02FnaDKu2WPk"
      },
      "outputs": [],
      "source": [
        "x_train, x_test, y_train, y_test = train_test_split(X, Y, test_size=0.1)\n",
        "sc = StandardScaler()\n",
        "x_train = sc.fit_transform(x_train)\n",
        "x_test = sc.transform(x_test)"
      ]
    },
    {
      "cell_type": "code",
      "execution_count": null,
      "metadata": {
        "id": "fWXDXaFQkQsS"
      },
      "outputs": [],
      "source": [
        "# Reshape the data for LSTM\n",
        "x_train_lstm = np.reshape(x_train, (x_train.shape[0], x_train.shape[1], 1))\n",
        "x_test_lstm = np.reshape(x_test, (x_test.shape[0], x_test.shape[1], 1))\n",
        "\n",
        "# Create the LSTM model\n",
        "model = Sequential()\n",
        "model.add(LSTM(64, input_shape=(x_train.shape[1], 1), return_sequences=True))\n",
        "model.add(BatchNormalization())\n",
        "model.add(LSTM(64))\n",
        "model.add(BatchNormalization())\n",
        "model.add(Dense(1))"
      ]
    },
    {
      "cell_type": "code",
      "execution_count": null,
      "metadata": {
        "id": "_6iMDlfV2bLh"
      },
      "outputs": [],
      "source": [
        "# Compile the model\n",
        "model.compile(optimizer='adam', loss='mse')"
      ]
    },
    {
      "cell_type": "code",
      "execution_count": null,
      "metadata": {
        "id": "nuQVQ37D2dg0"
      },
      "outputs": [],
      "source": [
        "# Set up callbacks\n",
        "reduce_lr = ReduceLROnPlateau(monitor='val_loss', patience=3, verbose=1)\n",
        "early_stopping = EarlyStopping(monitor='val_loss', patience=5, verbose=1)"
      ]
    },
    {
      "cell_type": "code",
      "execution_count": null,
      "metadata": {
        "id": "5xZPLh1F2f17"
      },
      "outputs": [],
      "source": [
        "# Train the model\n",
        "history = model.fit(x_train_lstm, y_train, epochs=1000 ,validation_split=0.6, callbacks=[reduce_lr, early_stopping])"
      ]
    },
    {
      "cell_type": "code",
      "execution_count": null,
      "metadata": {
        "colab": {
          "background_save": true
        },
        "id": "XwACSBg52o7r"
      },
      "outputs": [],
      "source": [
        "!pip install tensorflow\n",
        "!pip install keras\n",
        "!pip install matplotlib"
      ]
    },
    {
      "cell_type": "code",
      "execution_count": null,
      "metadata": {
        "id": "Wwu8oqU62jHi"
      },
      "outputs": [],
      "source": [
        "from tensorflow.keras.models import Model\n",
        "from tensorflow.keras.layers import Input, Dense\n",
        "from tensorflow.keras.utils import plot_model\n",
        "# Visualize the model\n",
        "plot_model(model, to_file='model.png', show_shapes=True)"
      ]
    },
    {
      "cell_type": "code",
      "execution_count": null,
      "metadata": {
        "id": "nrHsEpAj2sme"
      },
      "outputs": [],
      "source": [
        "model.summary()"
      ]
    },
    {
      "cell_type": "code",
      "execution_count": null,
      "metadata": {
        "id": "uQFwdY7Y2xyK"
      },
      "outputs": [],
      "source": [
        "# Make predictions\n",
        "y_pred = model.predict(x_test_lstm)"
      ]
    },
    {
      "cell_type": "code",
      "execution_count": null,
      "metadata": {
        "colab": {
          "background_save": true
        },
        "id": "LsfjiJuv2yRi"
      },
      "outputs": [],
      "source": [
        "# Evaluate the model\n",
        "mse = mean_squared_error(y_test, y_pred)\n",
        "mae = mean_absolute_error(y_test, y_pred)\n",
        "r2 = r2_score(y_test, y_pred)\n",
        "\n",
        "print(\"Mean Squared Error:\", mse)\n",
        "print(\"Mean Absolute Error:\", mae)\n",
        "print(\"R2 Score:\", r2)"
      ]
    },
    {
      "cell_type": "code",
      "execution_count": null,
      "metadata": {
        "id": "w0bIcgLM21NI"
      },
      "outputs": [],
      "source": [
        "# Save the model\n",
        "model.save(\"lstm_model\")"
      ]
    },
    {
      "cell_type": "code",
      "execution_count": null,
      "metadata": {
        "id": "HtZrIQMP260k"
      },
      "outputs": [],
      "source": [
        "def PredictRainfall(humidity, temp):\n",
        "  x_test_selected = x_test[[humidity, temp]]\n",
        "  num_features = x_train.shape[1]\n",
        "  x_test_selected = np.reshape(x_test_selected, (x_test_selected.shape[0], num_features, 1))\n",
        "  y_pred_selected = model.predict(x_test_selected)\n",
        "  predicted_rainfall = y_pred_selected[1] * 100\n",
        "\n",
        "  # Extract scalar value from NumPy array\n",
        "  predicted_rainfall_scalar = predicted_rainfall.item()\n",
        "\n",
        "  # Convert negative value to positive\n",
        "  predicted_rainfall_abs = abs(predicted_rainfall_scalar)\n",
        "\n",
        "  # Format the output as a string with 2 decimal places\n",
        "  predicted_rainfall_message = \"The predicted rainfall is {:.2f}%\".format(predicted_rainfall_abs)\n",
        "  sendMessageToWhatsApp(predicted_rainfall_message)\n",
        "  send_data(temp, humidity, predicted_rainfall_abs)\n"
      ]
    },
    {
      "cell_type": "code",
      "execution_count": null,
      "metadata": {
        "id": "EBjJm6QHfMky"
      },
      "outputs": [],
      "source": [
        "PredictRainfall(234,215) #Humidity,Temp"
      ]
    },
    {
      "cell_type": "code",
      "execution_count": null,
      "metadata": {
        "id": "1hnVck26rwrK"
      },
      "outputs": [],
      "source": [
        "import requests\n",
        "import urllib.parse\n",
        "\n",
        "phoneNumber = \"PHONE NUMBER\"\n",
        "apiKey = \"API KEY FOR THAT NUMBER\"\n",
        "\n",
        "def sendMessageToWhatsApp(message):\n",
        "    url = \"http://api.callmebot.com/whatsapp.php\"\n",
        "    payload = {\n",
        "        'phone': phoneNumber,\n",
        "        'apikey': apiKey,\n",
        "        'text': message\n",
        "    }\n",
        "\n",
        "    encoded_payload = urllib.parse.urlencode(payload)\n",
        "    full_url = url + '?' + encoded_payload\n",
        "\n",
        "    headers = {\n",
        "        'Content-Type': 'application/x-www-form-urlencoded'\n",
        "    }\n",
        "\n",
        "    response = requests.post(full_url, headers=headers)\n",
        "\n",
        "    if response.status_code == 200:\n",
        "        print(\"Message sent successfully\")\n",
        "    else:\n",
        "        print(\"Error sending the message\")\n",
        "        print(\"HTTP response code:\", response.status_code)\n"
      ]
    },
    {
      "cell_type": "markdown",
      "metadata": {
        "id": "EvkAzDWN6e5v"
      },
      "source": [
        "Main Function For Everything\n"
      ]
    },
    {
      "cell_type": "code",
      "execution_count": null,
      "metadata": {
        "id": "QEfsir_eoyYT"
      },
      "outputs": [],
      "source": [
        "%%writefile tracker.txt\n",
        "110"
      ]
    },
    {
      "cell_type": "code",
      "execution_count": null,
      "metadata": {
        "colab": {
          "background_save": true
        },
        "id": "C3dHYWFHCHmb"
      },
      "outputs": [],
      "source": [
        "import pandas as pd\n",
        "import time\n",
        "from google.colab import drive\n",
        "\n",
        "# Mount Google Drive\n",
        "drive.mount('/content/drive', force_remount=True)\n",
        "\n",
        "# Specify the file path of the CSV file in your Google Drive\n",
        "file_path = '/content/drive/MyDrive/IOTProject/ML.csv'\n",
        "\n",
        "# Check the last accessed row from the tracker file\n",
        "tracker_file = 'tracker.txt'\n",
        "current_row = 0\n",
        "\n",
        "try:\n",
        "    with open(tracker_file, 'r') as file:\n",
        "        current_row = int(file.read())\n",
        "except FileNotFoundError:\n",
        "    pass\n",
        "\n",
        "while True:\n",
        "    # Read the CSV file\n",
        "    df = pd.read_csv(file_path, skiprows=current_row, nrows=1)\n",
        "    #print(df.columns)  # Check the column names\n",
        "    # Perform operations with the first row data\n",
        "    # For example, printing the data\n",
        "    humidity = int(df.iloc[0][1])  # Access humidity from column 1 and convert to float\n",
        "    temperature = int(df.iloc[0][0])  # Access temperature from column 0 and convert to float\n",
        "    #print(humidity,temp)\n",
        "    PredictRainfall(humidity, temperature)\n",
        "    # Update the tracker file\n",
        "    with open(tracker_file, 'w') as file:\n",
        "        file.write(str(current_row + 2))\n",
        "\n",
        "    # Wait for some time before reading the next row\n",
        "    # You can adjust the delay time as per your requirement\n",
        "    time.sleep(5)  # Delay of 5 seconds before reading the next row\n"
      ]
    }
  ],
  "metadata": {
    "colab": {
      "provenance": [],
      "authorship_tag": "ABX9TyPReCNS78FcwPCAWgZ8CoAY",
      "include_colab_link": true
    },
    "kernelspec": {
      "display_name": "Python 3",
      "name": "python3"
    },
    "language_info": {
      "name": "python"
    }
  },
  "nbformat": 4,
  "nbformat_minor": 0
}